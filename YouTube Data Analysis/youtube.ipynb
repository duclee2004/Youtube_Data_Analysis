{
  "nbformat": 4,
  "nbformat_minor": 0,
  "metadata": {
    "colab": {
      "provenance": []
    },
    "kernelspec": {
      "name": "python3",
      "display_name": "Python 3"
    },
    "language_info": {
      "name": "python"
    }
  },
  "cells": [
    {
      "cell_type": "code",
      "execution_count": null,
      "metadata": {
        "colab": {
          "base_uri": "https://localhost:8080/"
        },
        "id": "SkSkU9ODM0oR",
        "outputId": "a3f437c4-4335-44a7-c8d4-faf8f0b7db58"
      },
      "outputs": [
        {
          "output_type": "stream",
          "name": "stdout",
          "text": [
            "Mounted at /content/drive\n"
          ]
        }
      ],
      "source": [
        "from google.colab import drive\n",
        "drive.mount('/content/drive')"
      ]
    },
    {
      "cell_type": "code",
      "source": [
        "!pip install pyspark"
      ],
      "metadata": {
        "colab": {
          "base_uri": "https://localhost:8080/"
        },
        "id": "5dZG2OqJNCdE",
        "outputId": "26057d3a-663f-460e-da60-1618984589a2"
      },
      "execution_count": null,
      "outputs": [
        {
          "output_type": "stream",
          "name": "stdout",
          "text": [
            "Requirement already satisfied: pyspark in /usr/local/lib/python3.10/dist-packages (3.5.3)\n",
            "Requirement already satisfied: py4j==0.10.9.7 in /usr/local/lib/python3.10/dist-packages (from pyspark) (0.10.9.7)\n"
          ]
        }
      ]
    },
    {
      "cell_type": "code",
      "source": [
        "from pyspark.sql import SparkSession\n",
        "from pyspark.sql.functions import count, desc , col, max, struct\n",
        "import matplotlib.pyplot as plts"
      ],
      "metadata": {
        "id": "Ith_vsHsNRpd"
      },
      "execution_count": null,
      "outputs": []
    },
    {
      "cell_type": "code",
      "source": [
        "spark = SparkSession.builder.appName('youTube_data_analysis').getOrCreate()"
      ],
      "metadata": {
        "id": "v1nM_S-HNibM"
      },
      "execution_count": null,
      "outputs": []
    },
    {
      "cell_type": "code",
      "source": [
        "spark"
      ],
      "metadata": {
        "colab": {
          "base_uri": "https://localhost:8080/",
          "height": 219
        },
        "id": "f-7DTDgtNp87",
        "outputId": "e5f21c2b-e164-4e89-caf5-da03f2e9ca63"
      },
      "execution_count": null,
      "outputs": [
        {
          "output_type": "execute_result",
          "data": {
            "text/plain": [
              "<pyspark.sql.session.SparkSession at 0x7d8c03e02fe0>"
            ],
            "text/html": [
              "\n",
              "            <div>\n",
              "                <p><b>SparkSession - in-memory</b></p>\n",
              "                \n",
              "        <div>\n",
              "            <p><b>SparkContext</b></p>\n",
              "\n",
              "            <p><a href=\"http://9f2b473be2e6:4040\">Spark UI</a></p>\n",
              "\n",
              "            <dl>\n",
              "              <dt>Version</dt>\n",
              "                <dd><code>v3.5.3</code></dd>\n",
              "              <dt>Master</dt>\n",
              "                <dd><code>local[*]</code></dd>\n",
              "              <dt>AppName</dt>\n",
              "                <dd><code>youTube_data_analysis</code></dd>\n",
              "            </dl>\n",
              "        </div>\n",
              "        \n",
              "            </div>\n",
              "        "
            ]
          },
          "metadata": {},
          "execution_count": 5
        }
      ]
    },
    {
      "cell_type": "code",
      "source": [
        "df_pyspark=spark.read.csv('/content/drive/MyDrive/bigdata/data/youtube_data/US_youtube_trending_data_updated.csv',header=True,inferSchema=True)\n",
        "df_pyspark.show()"
      ],
      "metadata": {
        "colab": {
          "base_uri": "https://localhost:8080/"
        },
        "id": "yMJLTWyfNssE",
        "outputId": "00f5fe08-45d4-4f59-c672-dbb5d558014a"
      },
      "execution_count": null,
      "outputs": [
        {
          "output_type": "stream",
          "name": "stdout",
          "text": [
            "+--------------------+--------------------+-------------------+--------------------+--------------+------------+-------------+--------------------+----------+--------------+--------------------+--------------------+--------------------+-----------------+----------------+--------------------+-------------+\n",
            "|            video_id|               title|        publishedAt|          channel_Id| channel_Title| category_Id|trending_date|                tags|view_count|         likes|            dislikes|       comment_count|      thumbnail_link|comments_disabled|ratings_disabled|         description|category_name|\n",
            "+--------------------+--------------------+-------------------+--------------------+--------------+------------+-------------+--------------------+----------+--------------+--------------------+--------------------+--------------------+-----------------+----------------+--------------------+-------------+\n",
            "|         3C66w5Z0ixs|I ASKED HER TO BE...|2020-08-11 19:20:14|UCvtRTOMP2TqYqu51...|      Brawadis|          22|   2020-08-12|brawadis|prank|ba...|   1514614|        156908|                5855|               35313|https://i.ytimg.c...|            False|           False|SUBSCRIBE to BRAW...|         NULL|\n",
            "| FOLLOW ME ON SOCIAL|                NULL|               NULL|                NULL|          NULL|        NULL|         NULL|                NULL|      NULL|          NULL|                NULL|                NULL|                NULL|             NULL|            NULL|                NULL|         NULL|\n",
            "|▶ Twitter: https:...|                NULL|               NULL|                NULL|          NULL|        NULL|         NULL|                NULL|      NULL|          NULL|                NULL|                NULL|                NULL|             NULL|            NULL|                NULL|         NULL|\n",
            "|▶ Instagram: http...|                NULL|               NULL|                NULL|          NULL|        NULL|         NULL|                NULL|      NULL|          NULL|                NULL|                NULL|                NULL|             NULL|            NULL|                NULL|         NULL|\n",
            "|▶ Snapchat: brawadis|                NULL|               NULL|                NULL|          NULL|        NULL|         NULL|                NULL|      NULL|          NULL|                NULL|                NULL|                NULL|             NULL|            NULL|                NULL|         NULL|\n",
            "|Hi! I’m Brandon A...|              pranks|          reactions| challenges and b...|People & Blogs|        NULL|         NULL|                NULL|      NULL|          NULL|                NULL|                NULL|                NULL|             NULL|            NULL|                NULL|         NULL|\n",
            "|         M9Pmf9AB4Mo|Apex Legends | St...|2020-08-11 17:00:10|UC0ZV6M2THA81QT9h...|  Apex Legends|          20|   2020-08-12|Apex Legends|Apex...|   2381688|        146739|                2794|               16549|https://i.ytimg.c...|            False|           False|While running her...|       Gaming|\n",
            "|         J78aPJ3VyNs|I left youtube fo...|2020-08-11 16:34:06|UCYzPXprvl5Y-Sf0g...| jacksepticeye|          24|   2020-08-12|jacksepticeye|fun...|   2038853|        353787|                2628|               40221|https://i.ytimg.c...|            False|           False|I left youtube fo...|Entertainment|\n",
            "|         kXLn3HkpjaA|XXL 2020 Freshman...|2020-08-11 16:38:55|UCbg_UMjlHJg_19SZ...|           XXL|          10|   2020-08-12|xxl freshman|xxl ...|    496771|         23251|                1856|                7647|https://i.ytimg.c...|            False|           False|Subscribe to XXL ...|         NULL|\n",
            "|XXL presents the ...|              Polo G|              Chika|           Baby Keem|       Mulatto| Jack Harlow|     Rod Wave|            Lil Tjay|    Calboy| Fivio Foreign| Lil Keed and 10t...| Neeko Baby and 1...|                NULL|             NULL|            NULL|                NULL|         NULL|\n",
            "|Go here → http://...|                NULL|               NULL|                NULL|          NULL|        NULL|         NULL|                NULL|      NULL|          NULL|                NULL|                NULL|                NULL|             NULL|            NULL|                NULL|         NULL|\n",
            "|XXL on Facebook →...|                NULL|               NULL|                NULL|          NULL|        NULL|         NULL|                NULL|      NULL|          NULL|                NULL|                NULL|                NULL|             NULL|            NULL|                NULL|         NULL|\n",
            "|XXL on Twitter → ...|                NULL|               NULL|                NULL|          NULL|        NULL|         NULL|                NULL|      NULL|          NULL|                NULL|                NULL|                NULL|             NULL|            NULL|                NULL|         NULL|\n",
            "|XXL on Instagram ...|               Music|               NULL|                NULL|          NULL|        NULL|         NULL|                NULL|      NULL|          NULL|                NULL|                NULL|                NULL|             NULL|            NULL|                NULL|         NULL|\n",
            "|         VIUo6yapDbc|Ultimate DIY Home...|2020-08-11 15:10:05|UCDVPcEbVLQgLZX0R...|      Mr. Kate|          26|   2020-08-12|The LaBrant Famil...|   1123889|         45802|                 964|                2196|https://i.ytimg.c...|            False|           False|Transforming The ...|Howto & Style|\n",
            "|         w-aidBdvZo8|I Haven't Been Ho...|2020-08-11 20:00:04|UC5zJwsFtEs9WYe3A...|Professor Live|          24|   2020-08-12|Professor injury|...|    949491|         77487|                 746|                7506|https://i.ytimg.c...|            False|           False|Subscribe To My C...|Entertainment|\n",
            "|         uet14uf9NsE|OUR FIRST FAMILY ...|2020-08-12 00:17:41|UCDSJCBYqL7VQrlXf...| Les Do Makeup|          26|   2020-08-12|              [None]|    470446|         47990|                 440|                4558|https://i.ytimg.c...|            False|           False|Hi babygirls!  Th...|Howto & Style|\n",
            "|         ua4QMFQATco|  CGP Grey was WRONG|2020-08-11 17:15:11|UC2C_jShtL725hvbm...|      CGP Grey|          27|   2020-08-12|cgpgrey|education...|   1050143|         89190|                 854|                6455|https://i.ytimg.c...|            False|           False|‣ What Was TEKOI:...|    Education|\n",
            "|         SnsPZj91R7E|SURPRISING MY DAD...|2020-08-10 22:26:59|UCZDdF_p-L88NWVpz...|  Louie's Life|          24|   2020-08-12|surprising|dad|fa...|   1402687|         95694|                2158|                6613|https://i.ytimg.c...|            False|           False|Since I was littl...|Entertainment|\n",
            "|         SsWHMAhshPQ|Ovi x Natanael Ca...|2020-08-11 23:00:10|UC648rgJOboZlgcDb...|Rancho Humilde|          10|   2020-08-12|Vengo De Nada|Ale...|    741028|        113983|                4373|                5618|https://i.ytimg.c...|            False|           False|Vengo De Nada - O...|         NULL|\n",
            "+--------------------+--------------------+-------------------+--------------------+--------------+------------+-------------+--------------------+----------+--------------+--------------------+--------------------+--------------------+-----------------+----------------+--------------------+-------------+\n",
            "only showing top 20 rows\n",
            "\n"
          ]
        }
      ]
    },
    {
      "cell_type": "code",
      "source": [
        "df_pyspark.printSchema()"
      ],
      "metadata": {
        "colab": {
          "base_uri": "https://localhost:8080/"
        },
        "id": "tQb8QC6COf5I",
        "outputId": "7a1a3ab1-a454-449e-e2c3-4b703cec480c"
      },
      "execution_count": null,
      "outputs": [
        {
          "output_type": "stream",
          "name": "stdout",
          "text": [
            "root\n",
            " |-- video_id: string (nullable = true)\n",
            " |-- title: string (nullable = true)\n",
            " |-- publishedAt: string (nullable = true)\n",
            " |-- channel_Id: string (nullable = true)\n",
            " |-- channel_Title: string (nullable = true)\n",
            " |-- category_Id: string (nullable = true)\n",
            " |-- trending_date: string (nullable = true)\n",
            " |-- tags: string (nullable = true)\n",
            " |-- view_count: string (nullable = true)\n",
            " |-- likes: string (nullable = true)\n",
            " |-- dislikes: string (nullable = true)\n",
            " |-- comment_count: string (nullable = true)\n",
            " |-- thumbnail_link: string (nullable = true)\n",
            " |-- comments_disabled: string (nullable = true)\n",
            " |-- ratings_disabled: string (nullable = true)\n",
            " |-- description: string (nullable = true)\n",
            " |-- category_name: string (nullable = true)\n",
            "\n"
          ]
        }
      ]
    },
    {
      "cell_type": "code",
      "source": [
        "from pyspark.sql.types import IntegerType\n",
        "df_pyspark = df_pyspark.withColumn(\"category_Id\", df_pyspark[\"category_Id\"].cast(IntegerType()))\n",
        "df_pyspark = df_pyspark.withColumn(\"view_count\", df_pyspark[\"view_count\"].cast(IntegerType()))\n",
        "df_pyspark = df_pyspark.withColumn(\"likes\", df_pyspark[\"likes\"].cast(IntegerType()))\n",
        "df_pyspark = df_pyspark.withColumn(\"dislikes\", df_pyspark[\"dislikes\"].cast(IntegerType()))\n",
        "df_pyspark = df_pyspark.withColumn(\"comment_count\", df_pyspark[\"comment_count\"].cast(IntegerType()))"
      ],
      "metadata": {
        "id": "huJjffliQOwE"
      },
      "execution_count": null,
      "outputs": []
    },
    {
      "cell_type": "code",
      "source": [
        "df_pyspark.printSchema()"
      ],
      "metadata": {
        "colab": {
          "base_uri": "https://localhost:8080/"
        },
        "id": "bKV7QhU3TBFD",
        "outputId": "4f094a34-f272-4e51-ab4d-861156995b87"
      },
      "execution_count": null,
      "outputs": [
        {
          "output_type": "stream",
          "name": "stdout",
          "text": [
            "root\n",
            " |-- video_id: string (nullable = true)\n",
            " |-- title: string (nullable = true)\n",
            " |-- publishedAt: string (nullable = true)\n",
            " |-- channel_Id: string (nullable = true)\n",
            " |-- channel_Title: string (nullable = true)\n",
            " |-- category_Id: integer (nullable = true)\n",
            " |-- trending_date: string (nullable = true)\n",
            " |-- tags: string (nullable = true)\n",
            " |-- view_count: integer (nullable = true)\n",
            " |-- likes: integer (nullable = true)\n",
            " |-- dislikes: integer (nullable = true)\n",
            " |-- comment_count: integer (nullable = true)\n",
            " |-- thumbnail_link: string (nullable = true)\n",
            " |-- comments_disabled: string (nullable = true)\n",
            " |-- ratings_disabled: string (nullable = true)\n",
            " |-- description: string (nullable = true)\n",
            " |-- category_name: string (nullable = true)\n",
            "\n"
          ]
        }
      ]
    },
    {
      "cell_type": "code",
      "source": [
        "df_pyspark.na.drop().show()"
      ],
      "metadata": {
        "colab": {
          "base_uri": "https://localhost:8080/"
        },
        "id": "i_8FrgxUbzF8",
        "outputId": "f92d1099-7ed5-41d4-c14d-3d0aa8addeca"
      },
      "execution_count": null,
      "outputs": [
        {
          "output_type": "stream",
          "name": "stdout",
          "text": [
            "+-----------+--------------------+-------------------+--------------------+--------------------+-----------+-------------+--------------------+----------+------+--------+-------------+--------------------+-----------------+----------------+--------------------+--------------------+\n",
            "|   video_id|               title|        publishedAt|          channel_Id|       channel_Title|category_Id|trending_date|                tags|view_count| likes|dislikes|comment_count|      thumbnail_link|comments_disabled|ratings_disabled|         description|       category_name|\n",
            "+-----------+--------------------+-------------------+--------------------+--------------------+-----------+-------------+--------------------+----------+------+--------+-------------+--------------------+-----------------+----------------+--------------------+--------------------+\n",
            "|M9Pmf9AB4Mo|Apex Legends | St...|2020-08-11 17:00:10|UC0ZV6M2THA81QT9h...|        Apex Legends|         20|   2020-08-12|Apex Legends|Apex...|   2381688|146739|    2794|        16549|https://i.ytimg.c...|            False|           False|While running her...|              Gaming|\n",
            "|J78aPJ3VyNs|I left youtube fo...|2020-08-11 16:34:06|UCYzPXprvl5Y-Sf0g...|       jacksepticeye|         24|   2020-08-12|jacksepticeye|fun...|   2038853|353787|    2628|        40221|https://i.ytimg.c...|            False|           False|I left youtube fo...|       Entertainment|\n",
            "|VIUo6yapDbc|Ultimate DIY Home...|2020-08-11 15:10:05|UCDVPcEbVLQgLZX0R...|            Mr. Kate|         26|   2020-08-12|The LaBrant Famil...|   1123889| 45802|     964|         2196|https://i.ytimg.c...|            False|           False|Transforming The ...|       Howto & Style|\n",
            "|w-aidBdvZo8|I Haven't Been Ho...|2020-08-11 20:00:04|UC5zJwsFtEs9WYe3A...|      Professor Live|         24|   2020-08-12|Professor injury|...|    949491| 77487|     746|         7506|https://i.ytimg.c...|            False|           False|Subscribe To My C...|       Entertainment|\n",
            "|uet14uf9NsE|OUR FIRST FAMILY ...|2020-08-12 00:17:41|UCDSJCBYqL7VQrlXf...|       Les Do Makeup|         26|   2020-08-12|              [None]|    470446| 47990|     440|         4558|https://i.ytimg.c...|            False|           False|Hi babygirls!  Th...|       Howto & Style|\n",
            "|ua4QMFQATco|  CGP Grey was WRONG|2020-08-11 17:15:11|UC2C_jShtL725hvbm...|            CGP Grey|         27|   2020-08-12|cgpgrey|education...|   1050143| 89190|     854|         6455|https://i.ytimg.c...|            False|           False|‣ What Was TEKOI:...|           Education|\n",
            "|SnsPZj91R7E|SURPRISING MY DAD...|2020-08-10 22:26:59|UCZDdF_p-L88NWVpz...|        Louie's Life|         24|   2020-08-12|surprising|dad|fa...|   1402687| 95694|    2158|         6613|https://i.ytimg.c...|            False|           False|Since I was littl...|       Entertainment|\n",
            "|49Z6Mv4_WCA|i don't know what...|2020-08-11 20:24:34|UCtinbF-Q-fVthA0q...|        CaseyNeistat|         22|   2020-08-12|              [None]|    940036| 87111|    1860|         7052|https://i.ytimg.c...|            False|           False|ssend love to my ...|      People & Blogs|\n",
            "|nt3VVyv5pxQ|Try Not To Laugh ...|2020-08-11 17:00:31|UCYJPby9DRCteedh5...|           Smosh Pit|         22|   2020-08-12|smosh|smosh pit|s...|    591837| 44168|     409|         2652|https://i.ytimg.c...|            False|           False|You know what tim...|      People & Blogs|\n",
            "|I6hswz4rIrU|Rainbow Six Siege...|2020-08-11 17:13:53|UCBMvc6jvuTxH6TNo...|Ubisoft North Ame...|         20|   2020-08-12|R6|R6S|Siege|New ...|    320872| 14288|     774|         2085|https://i.ytimg.c...|            False|           False|“Prepare. Execute...|              Gaming|\n",
            "|W7VK4DUHvKU|Lil Yachty & Futu...|2020-08-11 19:00:10|UC1X3TRsCt36QPjF1...|       LilYachtyVEVO|         10|   2020-08-12|Lil Yachty|Lil Bo...|    413372| 26440|     293|         1495|https://i.ytimg.c...|            False|           False|Watch the officia...|               Music|\n",
            "|W9Aen8hG20Y|When Our Generati...|2020-08-10 22:33:48|UCR9NuNwCUIhMOLUQ...|           Kyle Exum|         23|   2020-08-12|When Our Generati...|    921261|124183|    1678|        16460|https://i.ytimg.c...|            False|           False|500,000 Likes and...|              Comedy|\n",
            "|BNeDH6UTmXw|Ten Minutes with ...|2020-08-11 22:00:05|UCMw7m-ScQ6jV1FQz...|       Tyler Cameron|         22|   2020-08-12|the bachelor|the ...|    105955|  4511|      69|          673|https://i.ytimg.c...|            False|           False|Come hang out me ...|      People & Blogs|\n",
            "|6TIsR_7nrNc|Kylie Jenner Reac...|2020-08-10 18:41:19|UC2rJLq19N0dGrxfi...|       HollywoodLife|         24|   2020-08-12|kylie jenner|kend...|   1007540| 10102|    7932|         2763|https://i.ytimg.c...|            False|           False|Kylie Jenner diss...|       Entertainment|\n",
            "|gPdUslndvVI|Our Farm Got Dest...|2020-08-11 23:00:06|UCuxlXCfVyV-i5YLL...|   Cole The Cornstar|         22|   2020-08-12|farming|family fa...|    277338| 37533|     197|         3666|https://i.ytimg.c...|            False|           False|Wind storm, rain,...|      People & Blogs|\n",
            "|GTp-0S82guE|      Time to Talk..|2020-08-11 12:04:40|UCCgLoMYIyP0U56dE...|          Chloe Ting|         26|   2020-08-12|chloe ting|chloet...|   1648441|130147|    1425|        15773|https://i.ytimg.c...|            False|           False|I talked about so...|       Howto & Style|\n",
            "|jbGRowa5tIk|ITZY “Not Shy” M/...|2020-08-11 15:00:13|UCaO6TYtlC8U5ttz6...|   JYP Entertainment|         10|   2020-08-12|JYP Entertainment...|   5999732|714287|   15174|        31039|https://i.ytimg.c...|            False|           False|ITZY Not Shy M/V[...|               Music|\n",
            "|vePc5V4h_kg|Shark Attack Test...|2020-08-09 16:00:11|UCY1kMZp36IQSyNx_...|          Mark Rober|         28|   2020-08-12|sharks|sharkweek|...|  14684474|544038|   15818|        33507|https://i.ytimg.c...|            False|           False|I personally got ...|Science & Technology|\n",
            "|5WjcDji3xYc|Honest Trailers |...|2020-08-11 17:03:59|UCOpcACMWblDls9Z6...|      Screen Junkies|          1|   2020-08-12|screenjunkies|scr...|    833369| 50181|    1120|         4634|https://i.ytimg.c...|            False|           False|►►Subscribe to Sc...|    Film & Animation|\n",
            "|FopIxceEr8g|EXTREME Game of H...|2020-08-10 17:09:53|UCilwZiBBfI9X6yiZ...|            FaZe Rug|         24|   2020-08-12|faze rug|rug|rugf...|   3061467|206840|    2646|        14934|https://i.ytimg.c...|            False|           False|THIS WAS SO MUCH ...|       Entertainment|\n",
            "+-----------+--------------------+-------------------+--------------------+--------------------+-----------+-------------+--------------------+----------+------+--------+-------------+--------------------+-----------------+----------------+--------------------+--------------------+\n",
            "only showing top 20 rows\n",
            "\n"
          ]
        }
      ]
    },
    {
      "cell_type": "code",
      "source": [
        "df_pyspark.describe().show()"
      ],
      "metadata": {
        "colab": {
          "base_uri": "https://localhost:8080/"
        },
        "id": "KHUIgXFdb202",
        "outputId": "615345ff-a66a-4efa-b885-fd9db3aba929"
      },
      "execution_count": null,
      "outputs": [
        {
          "output_type": "stream",
          "name": "stdout",
          "text": [
            "+-------+--------------------+--------------------+-----------------+--------------------+------------------+------------------+------------------+--------------------+------------------+-----------------+------------------+------------------+--------------------+--------------------+--------------------+--------------------+--------------------+\n",
            "|summary|            video_id|               title|      publishedAt|          channel_Id|     channel_Title|       category_Id|     trending_date|                tags|        view_count|            likes|          dislikes|     comment_count|      thumbnail_link|   comments_disabled|    ratings_disabled|         description|       category_name|\n",
            "+-------+--------------------+--------------------+-----------------+--------------------+------------------+------------------+------------------+--------------------+------------------+-----------------+------------------+------------------+--------------------+--------------------+--------------------+--------------------+--------------------+\n",
            "|  count|              404805|              293236|           277894|              274947|            273410|            268794|            271645|              270501|            268799|           268794|            268794|            268794|              269492|              269300|              269187|              269094|              254888|\n",
            "|   mean|  32630.138461538463|  1443.7428571428572|2006.142857142857|              2017.0|1470.2727272727273|18.795679963094415|1124.2727272727273|   915.4166666666666|2734345.1366857765|131466.3184371675|1134.2480858947745|10142.767427844372|                 7.0|                 8.0|                NULL|                NULL|                NULL|\n",
            "| stddev|   18428.37690719543|   939.2158426123386|22.17861033298796|  2.9541957835039865| 914.6651836975093|12.270386747114868|1558.4776604692856|  1014.9765435998859| 9793885.532781687| 453941.510763173|8047.1885925081615| 72607.60019013341|                 0.0|                 0.0|                NULL|                NULL|                NULL|\n",
            "|    min|     - Facebook: ...|                    |                 |                    |                  |                 1|     & Bodenschatz|  Missouri State ...|                 0|                0|                 0|                 0|                   7| 24-module double...| 1804 (Hymenopter...|         & Dussutour| A. (2016). Habit...|\n",
            "|    max|          🦋SOCIAL  |🦝Raccoon Powers ...|     ” says Seth:|” “Skyscraper”) a...|     행복지수 103%|              2022|    ” “The Mummy”)|🚨FA CUP FINAL BO...|        1407643634|         16021534|            879354|           6738537| https://doi.org/...| 24 (2021). https...|                True|🩸LET’S EAT🩸Sink...| The ghost who wa...|\n",
            "+-------+--------------------+--------------------+-----------------+--------------------+------------------+------------------+------------------+--------------------+------------------+-----------------+------------------+------------------+--------------------+--------------------+--------------------+--------------------+--------------------+\n",
            "\n"
          ]
        }
      ]
    },
    {
      "cell_type": "code",
      "source": [],
      "metadata": {
        "id": "xOnQtM4-cdeO"
      },
      "execution_count": null,
      "outputs": []
    }
  ]
}